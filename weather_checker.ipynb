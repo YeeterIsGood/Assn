{
  "nbformat": 4,
  "nbformat_minor": 0,
  "metadata": {
    "colab": {
      "provenance": [],
      "authorship_tag": "ABX9TyOynAUgrszIXP3DU6cVEToj",
      "include_colab_link": true
    },
    "kernelspec": {
      "name": "python3",
      "display_name": "Python 3"
    },
    "language_info": {
      "name": "python"
    }
  },
  "cells": [
    {
      "cell_type": "markdown",
      "metadata": {
        "id": "view-in-github",
        "colab_type": "text"
      },
      "source": [
        "<a href=\"https://colab.research.google.com/github/YeeterIsGood/Assn/blob/main/weather_checker.ipynb\" target=\"_parent\"><img src=\"https://colab.research.google.com/assets/colab-badge.svg\" alt=\"Open In Colab\"/></a>"
      ]
    },
    {
      "cell_type": "code",
      "execution_count": 22,
      "metadata": {
        "colab": {
          "base_uri": "https://localhost:8080/"
        },
        "id": "Ltm_gWLoKW8N",
        "outputId": "c21e3fc8-948b-494b-f4bc-c3c375ddd384"
      },
      "outputs": [
        {
          "output_type": "stream",
          "name": "stdout",
          "text": [
            "None\n",
            "33.8°C\n",
            "92.84 °F\n"
          ]
        }
      ],
      "source": [
        "import requests\n",
        "from geopy.geocoders import Nominatim\n",
        "def zipcode_to_latlong(zipcode):\n",
        "  geolocator = Nominatim(user_agent=\"zipcode_to_latlong\")\n",
        "#location = geolocator.geocode(zipcode)\n",
        "latlong=zipcode_to_latlong(\"60089\")\n",
        "print(latlong)\n",
        "temperature_url = \"https://api.open-meteo.com/v1/forecast?latitude=42.151940&longitude=-87.966780&current=temperature_2m\"\n",
        "postal_code_url=\"https://geocoding-api.open-meteo.com/v1/search?name=Buffalo Grove&count=10&language=en&format=json\"\n",
        "response = requests.get(temperature_url)\n",
        "data = response.json()\n",
        "temperature_n_celsius = data[\"current\"][\"temperature_2m\"]\n",
        "unit = data[\"current_units\"][\"temperature_2m\"]\n",
        "print(f'{temperature_n_celsius}{unit}')\n",
        "temperature_n_fahrenheit=round(((temperature_n_celsius*9)/5)+32,2)\n",
        "print(f'{temperature_n_fahrenheit} \\u00B0F')\n",
        "location_response = requests.get(postal_code_url)\n",
        "location_data = location_response.json()\n",
        "longitude= data['longitude']\n",
        "latitude = data['latitude']\n",
        "#print(location_data)\n",
        "#print(latitude, longitude)\n"
      ]
    }
  ]
}