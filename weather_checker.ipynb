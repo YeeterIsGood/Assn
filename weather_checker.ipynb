{
  "nbformat": 4,
  "nbformat_minor": 0,
  "metadata": {
    "colab": {
      "provenance": [],
      "authorship_tag": "ABX9TyOv4AZ2HSHO4T4DRCL+FCxN",
      "include_colab_link": true
    },
    "kernelspec": {
      "name": "python3",
      "display_name": "Python 3"
    },
    "language_info": {
      "name": "python"
    }
  },
  "cells": [
    {
      "cell_type": "markdown",
      "metadata": {
        "id": "view-in-github",
        "colab_type": "text"
      },
      "source": [
        "<a href=\"https://colab.research.google.com/github/YeeterIsGood/Assn/blob/main/weather_checker.ipynb\" target=\"_parent\"><img src=\"https://colab.research.google.com/assets/colab-badge.svg\" alt=\"Open In Colab\"/></a>"
      ]
    },
    {
      "cell_type": "code",
      "execution_count": 10,
      "metadata": {
        "colab": {
          "base_uri": "https://localhost:8080/"
        },
        "id": "Ltm_gWLoKW8N",
        "outputId": "0bcb7d2a-92f6-430c-c92d-13e13a9d8898"
      },
      "outputs": [
        {
          "output_type": "stream",
          "name": "stdout",
          "text": [
            "33.6°C\n",
            "92.48 °F\n"
          ]
        }
      ],
      "source": [
        "import requests\n",
        "url = \"https://api.open-meteo.com/v1/forecast?latitude=42.151940&longitude=-87.966780&current=temperature_2m\"\n",
        "response = requests.get(url)\n",
        "data = response.json()\n",
        "temperature_n_celsius = data[\"current\"][\"temperature_2m\"]\n",
        "unit = data[\"current_units\"][\"temperature_2m\"]\n",
        "print(f'{temperature_n_celsius}{unit}')\n",
        "temperature_n_fahrenheit=round(((temperature_n_celsius*9)/5)+32,2)\n",
        "print(f'{temperature_n_fahrenheit} \\u00B0F')"
      ]
    }
  ]
}