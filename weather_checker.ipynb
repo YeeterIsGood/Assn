{
  "nbformat": 4,
  "nbformat_minor": 0,
  "metadata": {
    "colab": {
      "provenance": [],
      "authorship_tag": "ABX9TyNMolq8fB0jfTVTKkH4ZimB",
      "include_colab_link": true
    },
    "kernelspec": {
      "name": "python3",
      "display_name": "Python 3"
    },
    "language_info": {
      "name": "python"
    }
  },
  "cells": [
    {
      "cell_type": "markdown",
      "metadata": {
        "id": "view-in-github",
        "colab_type": "text"
      },
      "source": [
        "<a href=\"https://colab.research.google.com/github/YeeterIsGood/Assn/blob/main/weather_checker.ipynb\" target=\"_parent\"><img src=\"https://colab.research.google.com/assets/colab-badge.svg\" alt=\"Open In Colab\"/></a>"
      ]
    },
    {
      "cell_type": "code",
      "execution_count": 10,
      "metadata": {
        "colab": {
          "base_uri": "https://localhost:8080/"
        },
        "id": "Ltm_gWLoKW8N",
        "outputId": "bf2d4f47-1483-4804-c1e8-1179be4a410d"
      },
      "outputs": [
        {
          "output_type": "stream",
          "name": "stdout",
          "text": [
            "31.4°C\n"
          ]
        }
      ],
      "source": [
        "import requests\n",
        "url = \"https://api.open-meteo.com/v1/forecast?latitude=42.151940&longitude=-87.966780&current=temperature_2m\"\n",
        "response = requests.get(url)\n",
        "data = response.json()\n",
        "temperature = data[\"current\"][\"temperature_2m\"]\n",
        "unit = data[\"current_units\"][\"temperature_2m\"]\n",
        "print(f'{temperature}{unit}')\n"
      ]
    }
  ]
}