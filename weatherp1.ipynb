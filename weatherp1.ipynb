{
  "nbformat": 4,
  "nbformat_minor": 0,
  "metadata": {
    "colab": {
      "provenance": [],
      "authorship_tag": "ABX9TyPcx1MzMm63Rz8g85s1nKTx",
      "include_colab_link": true
    },
    "kernelspec": {
      "name": "python3",
      "display_name": "Python 3"
    },
    "language_info": {
      "name": "python"
    }
  },
  "cells": [
    {
      "cell_type": "markdown",
      "metadata": {
        "id": "view-in-github",
        "colab_type": "text"
      },
      "source": [
        "<a href=\"https://colab.research.google.com/github/YeeterIsGood/Assn/blob/main/weatherp1.ipynb\" target=\"_parent\"><img src=\"https://colab.research.google.com/assets/colab-badge.svg\" alt=\"Open In Colab\"/></a>"
      ]
    },
    {
      "cell_type": "code",
      "execution_count": 36,
      "metadata": {
        "colab": {
          "base_uri": "https://localhost:8080/"
        },
        "id": "I-eLL2ws7X6x",
        "outputId": "5e8b8d5a-ddd7-46e7-e93b-9edff9686be5"
      },
      "outputs": [
        {
          "output_type": "stream",
          "name": "stdout",
          "text": [
            "Enter zip code: 620010\n",
            "In Trichy:\n",
            "The current temperature is 31.09 degrees Celsius.\n",
            "But it feels like it is 36.66 degrees Celsius\n"
          ]
        }
      ],
      "source": [
        "import requests\n",
        "\n",
        "# Function to get weather data using a zip code\n",
        "def get_weather_by_zip(zip_code):\n",
        "    # Define the URL for the geocoding API request\n",
        "    geocode_url = f\"https://geocode.maps.co/search?q={zip_code}&api_key=66733462af74e648003751nhf021cb9\"\n",
        "\n",
        "    # Send a GET request to the geocoding API\n",
        "    geocode_response = requests.get(geocode_url)\n",
        "\n",
        "    # Check if the request was successful\n",
        "    if geocode_response.status_code == 200:\n",
        "    # Parse the JSON response data\n",
        "        geocode_data = geocode_response.json()\n",
        "\n",
        "        if geocode_data:\n",
        "            # Extract latitude and longitude from the first result\n",
        "            lat = geocode_data[0]['lat']\n",
        "            lon = geocode_data[0]['lon']\n",
        "\n",
        "            # OpenWeatherMap API URL and API key\n",
        "            api_key = \"368a83d550679599dcc8240b15da32ef\"\n",
        "            url = f\"http://api.openweathermap.org/data/2.5/weather?lat={lat}&lon={lon}&appid={api_key}\"\n",
        "\n",
        "            # Send a GET request to the specified URL\n",
        "            response = requests.get(url)\n",
        "\n",
        "            # Check if the request was successful\n",
        "            if response.status_code == 200:\n",
        "                # Parse the JSON response data\n",
        "                data = response.json()\n",
        "\n",
        "                # Access the temperature field and convert it from Kelvin to Celsius\n",
        "                temperature_kelvin = data[\"main\"][\"temp\"]\n",
        "                temperature_celsius = temperature_kelvin - 273.15\n",
        "                feels_like_kelvin = data[\"main\"][\"feels_like\"]\n",
        "                feels_like_celsius = feels_like_kelvin - 273.15\n",
        "                city_name = data['name']\n",
        "\n",
        "                # Display the results\n",
        "                print(f\"In {city_name}:\")\n",
        "                print(f\"The current temperature is {temperature_celsius:.2f} degrees Celsius.\")\n",
        "                print(f\"But it feels like it is {feels_like_celsius:.2f} degrees Celsius\")\n",
        "# Get the zip code from user input\n",
        "zip_code = input(\"Enter zip code: \")\n",
        "# Call the function to get weather data\n",
        "get_weather_by_zip(zip_code)"
      ]
    }
  ]
}