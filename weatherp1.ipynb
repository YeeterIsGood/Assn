{
  "nbformat": 4,
  "nbformat_minor": 0,
  "metadata": {
    "colab": {
      "provenance": [],
      "authorship_tag": "ABX9TyPexr5X9VMtI3bNQUzIo2Vj",
      "include_colab_link": true
    },
    "kernelspec": {
      "name": "python3",
      "display_name": "Python 3"
    },
    "language_info": {
      "name": "python"
    }
  },
  "cells": [
    {
      "cell_type": "markdown",
      "metadata": {
        "id": "view-in-github",
        "colab_type": "text"
      },
      "source": [
        "<a href=\"https://colab.research.google.com/github/YeeterIsGood/Assn/blob/main/weatherp1.ipynb\" target=\"_parent\"><img src=\"https://colab.research.google.com/assets/colab-badge.svg\" alt=\"Open In Colab\"/></a>"
      ]
    },
    {
      "cell_type": "code",
      "execution_count": 19,
      "metadata": {
        "colab": {
          "base_uri": "https://localhost:8080/"
        },
        "id": "I-eLL2ws7X6x",
        "outputId": "d8656cb1-5c69-49d1-a170-86b3c96c6a25"
      },
      "outputs": [
        {
          "output_type": "stream",
          "name": "stdout",
          "text": [
            "Enter latitude: 41.87\n",
            "Enter longitude: -87.62\n",
            "The current temperature is 33.9°C\n"
          ]
        }
      ],
      "source": [
        "import requests\n",
        "\n",
        "# Get latitude and longitude from user input\n",
        "lat = input(\"Enter latitude: \")\n",
        "lon = input(\"Enter longitude: \")\n",
        "\n",
        "# Define the URL for the API request, specifying the latitude and longitude\n",
        "url = f\"https://api.open-meteo.com/v1/forecast?latitude={lat}&longitude={lon}&current_weather=true\"\n",
        "\n",
        "# Send a GET request to the specified URL\n",
        "response = requests.get(url)\n",
        "\n",
        "# Check if the request was successful\n",
        "if response.status_code == 200:\n",
        "    # Parse the JSON response data\n",
        "    data = response.json()\n",
        "\n",
        "    # Print the current temperature and its unit\n",
        "    # Access the \"temperature\" field from the \"current_weather\" section\n",
        "    temperature = data['current_weather']['temperature']\n",
        "    # Assuming the unit is Celsius\n",
        "    unit = '°C'\n",
        "    print(f'The current temperature is {temperature}{unit}')\n",
        "else:\n",
        "    print(\"Failed to retrieve data from the API\")"
      ]
    }
  ]
}