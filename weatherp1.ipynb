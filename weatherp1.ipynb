{
  "nbformat": 4,
  "nbformat_minor": 0,
  "metadata": {
    "colab": {
      "provenance": [],
      "authorship_tag": "ABX9TyPVXvMc6eun9V44n5OegUtn",
      "include_colab_link": true
    },
    "kernelspec": {
      "name": "python3",
      "display_name": "Python 3"
    },
    "language_info": {
      "name": "python"
    }
  },
  "cells": [
    {
      "cell_type": "markdown",
      "metadata": {
        "id": "view-in-github",
        "colab_type": "text"
      },
      "source": [
        "<a href=\"https://colab.research.google.com/github/YeeterIsGood/Assn/blob/main/weatherp1.ipynb\" target=\"_parent\"><img src=\"https://colab.research.google.com/assets/colab-badge.svg\" alt=\"Open In Colab\"/></a>"
      ]
    },
    {
      "cell_type": "code",
      "execution_count": null,
      "metadata": {
        "colab": {
          "base_uri": "https://localhost:8080/"
        },
        "id": "I-eLL2ws7X6x",
        "outputId": "d8656cb1-5c69-49d1-a170-86b3c96c6a25"
      },
      "outputs": [
        {
          "output_type": "stream",
          "name": "stdout",
          "text": [
            "Enter latitude: 41.87\n",
            "Enter longitude: -87.62\n",
            "The current temperature is 33.9°C\n"
          ]
        }
      ],
      "source": [
        "import requests\n",
        "def zip_weather (zipcode)\n",
        "\n",
        "earthcode_url = f\"https://geocode.maps.co/search?q={zip_code}&api_key=66733462af74e648003751nhf021cb9\"\n",
        "\n",
        "earthcode_response = requests.get(earthcode_url)\n",
        "\n",
        "if earthcode_response.status_code == 200:\n",
        "    earthdata = earthcode_response.json()\n",
        "\n",
        "if earthdata:\n",
        "  lat = earthcode_data[0]['lat']\n",
        "            lon = earthcode_data[0]['lon']\n",
        "\n",
        " api_key = \"3168385325ad057be97689c76b7f2bcb\"\n",
        "            reach_url = f\"http://api.openweathermap.org/data/2.5/weather?lat={lat}&lon={lon}&appid={api_key}\"\n",
        "\n",
        "reach_response = requests.get(reach_url)\n"
      ]
    }
  ]
}